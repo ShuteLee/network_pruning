{
 "cells": [
  {
   "cell_type": "code",
   "execution_count": 1,
   "metadata": {},
   "outputs": [],
   "source": [
    "import matplotlib.pyplot as plt\n",
    "import numpy as np\n",
    "import pandas as pd\n",
    "import seaborn as sns\n",
    "import tensorflow as tf\n",
    "import time\n",
    "import os\n",
    "from tqdm import tqdm\n",
    "\n",
    "os.environ[\"CUDA_DEVICE_ORDER\"] = \"PCI_BUS_ID\"\n",
    "os.environ[\"CUDA_VISIBLE_DEVICES\"] = \"1\"\n",
    "#tf.device('/gpu:1')\n",
    "\n",
    "sns.set()\n",
    "tf.enable_eager_execution()\n",
    "tf.set_random_seed(1867)"
   ]
  },
  {
   "cell_type": "code",
   "execution_count": 2,
   "metadata": {},
   "outputs": [],
   "source": [
    "#Prepare MNIST Data\n",
    "(x_train, y_train), (x_test, y_test) = tf.keras.datasets.cifar10.load_data()\n",
    "\n",
    "#将数据切片，缓冲区1000，batch64\n",
    "dataset_train = tf.data.Dataset.from_tensor_slices((\n",
    "    tf.cast(x_train/255, tf.float32),\n",
    "    tf.cast(y_train, tf.int64)\n",
    ")).shuffle(2000).batch(64)\n",
    "\n",
    "dataset_test = tf.data.Dataset.from_tensor_slices((\n",
    "    tf.cast(x_test/255, tf.float32),\n",
    "    tf.cast(y_test, tf.int64)\n",
    ")).batch(64)"
   ]
  },
  {
   "cell_type": "code",
   "execution_count": 3,
   "metadata": {},
   "outputs": [],
   "source": [
    "#Model Definition\n",
    "model_orig = tf.keras.Sequential([\n",
    "    tf.keras.layers.Conv2D(64, 3, activation=tf.nn.relu, input_shape=(32, 32, 3), padding='same', kernel_regularizer=tf.keras.regularizers.l1(0.001)),\n",
    "    tf.keras.layers.Conv2D(64, 3, activation=tf.nn.relu, padding='same', kernel_regularizer=tf.keras.regularizers.l1(0.001)),\n",
    "    tf.keras.layers.MaxPool2D(2, 2),\n",
    "    tf.keras.layers.Dropout(0.25),\n",
    "    tf.keras.layers.Conv2D(128, 3, activation=tf.nn.relu, padding='same', kernel_regularizer=tf.keras.regularizers.l1(0.001)),\n",
    "    tf.keras.layers.Conv2D(128, 3, activation=tf.nn.relu, padding='same', kernel_regularizer=tf.keras.regularizers.l1(0.001)),\n",
    "    tf.keras.layers.MaxPool2D(2, 2),\n",
    "    tf.keras.layers.Dropout(0.25),\n",
    "    tf.keras.layers.Conv2D(256, 3, activation=tf.nn.relu, padding='same', kernel_regularizer=tf.keras.regularizers.l1(0.001)),\n",
    "    tf.keras.layers.Conv2D(256, 3, activation=tf.nn.relu, padding='same', kernel_regularizer=tf.keras.regularizers.l1(0.001)),\n",
    "    tf.keras.layers.MaxPool2D(2, 2),\n",
    "    tf.keras.layers.Dropout(0.25),\n",
    "    tf.keras.layers.Flatten(),\n",
    "    tf.keras.layers.Dense(4096, activation=tf.nn.relu),\n",
    "    tf.keras.layers.Dense(4096, activation=tf.nn.relu),\n",
    "    tf.keras.layers.Dropout(0.5),\n",
    "    tf.keras.layers.Dense(10, use_bias=False),\n",
    "])\n",
    "\n"
   ]
  },
  {
   "cell_type": "code",
   "execution_count": 4,
   "metadata": {},
   "outputs": [],
   "source": [
    "def train_model(model):\n",
    "    optimizer = tf.train.AdamOptimizer()\n",
    "    global_step = tf.train.get_or_create_global_step()\n",
    "\n",
    "    training_losses = []\n",
    "    training_accuracy = []\n",
    "\n",
    "    for epoch in range(20):\n",
    "        epoch_loss_avg = tf.contrib.eager.metrics.Mean()\n",
    "        epoch_accuracy = tf.contrib.eager.metrics.Accuracy()\n",
    "        for x, y in tqdm(dataset_train, total=round(len(x_train)/64)):\n",
    "            x = tf.reshape(x, [-1, 32, 32, 3])\n",
    "            y = y[:, 0]\n",
    "            with tf.GradientTape() as tape:\n",
    "                outputs = model(x)\n",
    "                loss = tf.losses.softmax_cross_entropy(tf.one_hot(y, 10), outputs)\n",
    "            grads = tape.gradient(loss, model.trainable_weights)\n",
    "            optimizer.apply_gradients(zip(grads, model.trainable_weights), global_step)\n",
    "            epoch_loss_avg(loss)\n",
    "            epoch_accuracy(tf.argmax(outputs, axis=1, output_type=tf.int64), y)\n",
    "        training_losses.append(epoch_loss_avg.result())\n",
    "        training_accuracy.append(epoch_accuracy.result())\n",
    "\n",
    "    return training_losses, training_accuracy\n"
   ]
  },
  {
   "cell_type": "code",
   "execution_count": 5,
   "metadata": {},
   "outputs": [],
   "source": [
    "def test(model, dataset):\n",
    "    epoch_loss_avg = tf.contrib.eager.metrics.Mean()\n",
    "    epoch_accuracy = tf.contrib.eager.metrics.Accuracy()\n",
    "    for x, y in dataset:\n",
    "        x = tf.reshape(x, [-1, 32, 32, 3])\n",
    "        y = y[:, 0]\n",
    "        outputs = model(x)\n",
    "        loss = tf.losses.softmax_cross_entropy(tf.one_hot(y, 10), outputs)\n",
    "        epoch_loss_avg(loss)\n",
    "        epoch_accuracy(tf.argmax(outputs, axis=1, output_type=tf.int64), y)\n",
    "    return epoch_loss_avg.result().numpy(), epoch_accuracy.result().numpy()\n"
   ]
  },
  {
   "cell_type": "code",
   "execution_count": 6,
   "metadata": {},
   "outputs": [],
   "source": [
    "#Train Model\n",
    "def unit_prune(dense_model, percentile):\n",
    "    conv_layer_cnt = 6\n",
    "    pruned_model = tf.keras.models.Sequential()\n",
    "    filter_norms = []\n",
    "    weights_thislayer_np = dense_model.trainable_weights[0].numpy()\n",
    "\n",
    "    # conv layer\n",
    "    for i_conv_layer in range(conv_layer_cnt):\n",
    "        weights_nextlayer_np = dense_model.trainable_weights[i_conv_layer * 2 + 2].numpy()\n",
    "        for i_filter in range(weights_thislayer_np.shape[3]):\n",
    "            filter_norms.append(np.mean(np.fabs(weights_thislayer_np[:, :, :, i_filter])))\n",
    "        critical_value = np.percentile(filter_norms, percentile)\n",
    "        keep_mask = filter_norms >= critical_value\n",
    "        weights_thislayer_np = weights_thislayer_np[:, :, :, keep_mask]\n",
    "        if i_conv_layer < conv_layer_cnt - 1:\n",
    "            weights_nextlayer_np = weights_nextlayer_np[:, :, keep_mask, :]\n",
    "        else:\n",
    "            flatten_mask = np.zeros(shape=(len(keep_mask), len(weights_nextlayer_np) // len(keep_mask)))\n",
    "            flatten_mask[:] = np.array(keep_mask).reshape(-1, 1)\n",
    "            flatten_mask = flatten_mask.reshape(1, -1)\n",
    "            flatten_mask = flatten_mask[0]\n",
    "            weights_nextlayer_np = weights_nextlayer_np[np.argwhere(flatten_mask)[:, 0], :]\n",
    "        bias = dense_model.trainable_weights[i_conv_layer * 2 + 1].numpy()[keep_mask]\n",
    "        if i_conv_layer == 0:\n",
    "            new_layer = tf.keras.layers.Conv2D(weights_thislayer_np.shape[3], 3, activation=tf.nn.relu, padding='same',\n",
    "                                               input_shape=(32, 32, 3))\n",
    "        else:\n",
    "            new_layer = tf.keras.layers.Conv2D(weights_thislayer_np.shape[3], 3, activation=tf.nn.relu, padding='same')\n",
    "        pruned_model.add(new_layer)\n",
    "        new_layer.set_weights([weights_thislayer_np, bias])\n",
    "        weights_thislayer_np = weights_nextlayer_np\n",
    "        filter_norms.clear()\n",
    "        if i_conv_layer%2 == 1:\n",
    "            pruned_model.add(tf.keras.layers.MaxPool2D(2, 2))\n",
    "            pruned_model.add(tf.keras.layers.Dropout(0.25))\n",
    "\n",
    "    # flatten_layer\n",
    "    new_layer = tf.keras.layers.Flatten()\n",
    "    pruned_model.add(new_layer)\n",
    "\n",
    "    new_layer = tf.keras.layers.Dense(4096, activation=tf.nn.relu)\n",
    "    pruned_model.add(new_layer)\n",
    "    new_layer.set_weights([weights_thislayer_np, dense_model.trainable_weights[13].numpy()])\n",
    "    \n",
    "    new_layer = tf.keras.layers.Dense(4096, activation=tf.nn.relu)\n",
    "    pruned_model.add(new_layer)\n",
    "    new_layer.set_weights([dense_model.trainable_weights[14].numpy(), dense_model.trainable_weights[15].numpy()])\n",
    "    # fc layer\n",
    "    pruned_model.add(tf.keras.layers.Dropout(0.5))\n",
    "    new_layer = tf.keras.layers.Dense(10, use_bias=False)\n",
    "    pruned_model.add(new_layer)\n",
    "    new_layer.set_weights(dense_model.layers[16].get_weights())\n",
    "\n",
    "    return pruned_model"
   ]
  },
  {
   "cell_type": "code",
   "execution_count": 7,
   "metadata": {},
   "outputs": [],
   "source": [
    "def fine_tuning(pruned_model, epoch_num):\n",
    "    optimizer = tf.train.AdamOptimizer()\n",
    "    global_step = tf.train.get_or_create_global_step()\n",
    "\n",
    "    training_losses = []\n",
    "    training_accuracy = []\n",
    "\n",
    "    for epoch in range(epoch_num):\n",
    "        epoch_loss_avg = tf.contrib.eager.metrics.Mean()\n",
    "        epoch_accuracy = tf.contrib.eager.metrics.Accuracy()\n",
    "        for x, y in tqdm(dataset_train, total=round(len(x_train)/64)):\n",
    "            with tf.GradientTape() as tape:\n",
    "                x = tf.reshape(x, [-1, 32, 32, 3])\n",
    "                y = y[:, 0]\n",
    "                outputs = pruned_model(x)\n",
    "                loss = tf.losses.softmax_cross_entropy(tf.one_hot(y, 10), outputs)\n",
    "            grads = tape.gradient(loss, pruned_model.trainable_weights)\n",
    "            optimizer.apply_gradients(zip(grads, pruned_model.trainable_weights), global_step)\n",
    "            epoch_loss_avg(loss)\n",
    "            epoch_accuracy(tf.argmax(outputs, axis=1, output_type=tf.int64), y)\n",
    "        training_losses.append(epoch_loss_avg.result())\n",
    "        training_accuracy.append(epoch_accuracy.result())\n",
    "\n",
    "    return pruned_model"
   ]
  },
  {
   "cell_type": "code",
   "execution_count": 8,
   "metadata": {},
   "outputs": [
    {
     "name": "stderr",
     "output_type": "stream",
     "text": [
      "782it [00:33, 23.20it/s]                         \n",
      "782it [00:29, 26.45it/s]                         \n",
      "782it [00:29, 26.60it/s]                         \n",
      "782it [00:29, 26.46it/s]                         \n",
      "782it [00:29, 26.46it/s]                         \n",
      "782it [00:29, 26.44it/s]                         \n",
      "782it [00:29, 26.26it/s]                         \n",
      "782it [00:29, 26.20it/s]                         \n",
      "782it [00:29, 26.12it/s]                         \n",
      "782it [00:30, 26.02it/s]                         \n",
      "782it [00:31, 25.18it/s]                         \n",
      "782it [00:32, 24.11it/s]                         \n",
      "782it [00:29, 26.26it/s]                         \n",
      "782it [00:29, 26.32it/s]                         \n",
      "782it [00:29, 26.40it/s]                         \n",
      "782it [00:30, 25.95it/s]                         \n",
      "782it [00:30, 25.82it/s]                         \n",
      "782it [00:30, 25.90it/s]                         \n",
      "782it [00:30, 25.89it/s]                         \n",
      "782it [00:30, 25.77it/s]                         \n"
     ]
    }
   ],
   "source": [
    "train_model(model_orig)\n",
    "model_orig.save('mdoel_orig.h5')"
   ]
  },
  {
   "cell_type": "code",
   "execution_count": 13,
   "metadata": {},
   "outputs": [],
   "source": [
    "model_pruned = unit_prune(model_orig, 75)"
   ]
  },
  {
   "cell_type": "code",
   "execution_count": 10,
   "metadata": {},
   "outputs": [],
   "source": [
    "model_ft = model_pruned"
   ]
  },
  {
   "cell_type": "code",
   "execution_count": 14,
   "metadata": {},
   "outputs": [
    {
     "name": "stderr",
     "output_type": "stream",
     "text": [
      "782it [00:17, 44.21it/s]                         \n",
      "  0%|          | 0/781 [00:00<?, ?it/s]"
     ]
    },
    {
     "name": "stdout",
     "output_type": "stream",
     "text": [
      "(0.9695024600454197, 0.6608)\n"
     ]
    },
    {
     "name": "stderr",
     "output_type": "stream",
     "text": [
      "782it [00:17, 44.51it/s]                         \n",
      "  0%|          | 0/781 [00:00<?, ?it/s]"
     ]
    },
    {
     "name": "stdout",
     "output_type": "stream",
     "text": [
      "(0.8523989029371055, 0.7057)\n"
     ]
    },
    {
     "name": "stderr",
     "output_type": "stream",
     "text": [
      "782it [00:17, 44.49it/s]                         \n",
      "  0%|          | 0/781 [00:00<?, ?it/s]"
     ]
    },
    {
     "name": "stdout",
     "output_type": "stream",
     "text": [
      "(0.8754185764652909, 0.6975)\n"
     ]
    },
    {
     "name": "stderr",
     "output_type": "stream",
     "text": [
      "782it [00:17, 44.35it/s]                         \n",
      "  0%|          | 0/781 [00:00<?, ?it/s]"
     ]
    },
    {
     "name": "stdout",
     "output_type": "stream",
     "text": [
      "(0.9700069533791512, 0.7015)\n"
     ]
    },
    {
     "name": "stderr",
     "output_type": "stream",
     "text": [
      "782it [00:17, 44.42it/s]                         \n",
      "  0%|          | 0/781 [00:00<?, ?it/s]"
     ]
    },
    {
     "name": "stdout",
     "output_type": "stream",
     "text": [
      "(1.0234562838153474, 0.7052)\n"
     ]
    },
    {
     "name": "stderr",
     "output_type": "stream",
     "text": [
      "782it [00:17, 44.49it/s]                         \n",
      "  0%|          | 0/781 [00:00<?, ?it/s]"
     ]
    },
    {
     "name": "stdout",
     "output_type": "stream",
     "text": [
      "(1.067143757252177, 0.7037)\n"
     ]
    },
    {
     "name": "stderr",
     "output_type": "stream",
     "text": [
      "782it [00:17, 44.60it/s]                         \n",
      "  0%|          | 0/781 [00:00<?, ?it/s]"
     ]
    },
    {
     "name": "stdout",
     "output_type": "stream",
     "text": [
      "(1.188450474268312, 0.7046)\n"
     ]
    },
    {
     "name": "stderr",
     "output_type": "stream",
     "text": [
      "782it [00:17, 44.47it/s]                         \n",
      "  0%|          | 0/781 [00:00<?, ?it/s]"
     ]
    },
    {
     "name": "stdout",
     "output_type": "stream",
     "text": [
      "(1.193146335471208, 0.7071)\n"
     ]
    },
    {
     "name": "stderr",
     "output_type": "stream",
     "text": [
      "782it [00:17, 44.63it/s]                         \n",
      "  0%|          | 0/781 [00:00<?, ?it/s]"
     ]
    },
    {
     "name": "stdout",
     "output_type": "stream",
     "text": [
      "(1.5332773999803384, 0.7022)\n"
     ]
    },
    {
     "name": "stderr",
     "output_type": "stream",
     "text": [
      "782it [00:17, 44.60it/s]                         \n"
     ]
    },
    {
     "name": "stdout",
     "output_type": "stream",
     "text": [
      "(1.4204845117155913, 0.6995)\n"
     ]
    }
   ],
   "source": [
    "model_ft = fine_tuning(model_pruned, 1)\n",
    "print(test(model_ft, dataset_test))\n",
    "for i in range(9):\n",
    "    model_ft = fine_tuning(model_ft, 1)\n",
    "    print(test(model_ft, dataset_test))"
   ]
  },
  {
   "cell_type": "code",
   "execution_count": 15,
   "metadata": {
    "scrolled": false
   },
   "outputs": [
    {
     "name": "stderr",
     "output_type": "stream",
     "text": [
      "782it [00:29, 26.17it/s]                         \n"
     ]
    },
    {
     "name": "stdout",
     "output_type": "stream",
     "text": [
      "(0.8037976108159229, 0.7386)\n"
     ]
    },
    {
     "name": "stderr",
     "output_type": "stream",
     "text": [
      "782it [00:29, 26.67it/s]                         \n"
     ]
    },
    {
     "name": "stdout",
     "output_type": "stream",
     "text": [
      "(0.7309401130220693, 0.765)\n"
     ]
    },
    {
     "name": "stderr",
     "output_type": "stream",
     "text": [
      "782it [00:29, 26.76it/s]                         \n"
     ]
    },
    {
     "name": "stdout",
     "output_type": "stream",
     "text": [
      "(0.7650851362450107, 0.7527)\n"
     ]
    },
    {
     "name": "stderr",
     "output_type": "stream",
     "text": [
      "782it [00:28, 27.01it/s]                         \n"
     ]
    },
    {
     "name": "stdout",
     "output_type": "stream",
     "text": [
      "(0.810775093971544, 0.75)\n"
     ]
    },
    {
     "name": "stderr",
     "output_type": "stream",
     "text": [
      "782it [00:28, 27.73it/s]                         \n"
     ]
    },
    {
     "name": "stdout",
     "output_type": "stream",
     "text": [
      "(0.7606347003939805, 0.7573)\n"
     ]
    },
    {
     "name": "stderr",
     "output_type": "stream",
     "text": [
      "782it [00:27, 27.96it/s]                         \n"
     ]
    },
    {
     "name": "stdout",
     "output_type": "stream",
     "text": [
      "(0.9036116677864342, 0.7448)\n"
     ]
    },
    {
     "name": "stderr",
     "output_type": "stream",
     "text": [
      "782it [00:27, 28.70it/s]                         \n"
     ]
    },
    {
     "name": "stdout",
     "output_type": "stream",
     "text": [
      "(0.8937102776424141, 0.7519)\n"
     ]
    },
    {
     "name": "stderr",
     "output_type": "stream",
     "text": [
      "782it [00:27, 26.20it/s]                         \n"
     ]
    },
    {
     "name": "stdout",
     "output_type": "stream",
     "text": [
      "(0.9062892209952045, 0.7464)\n"
     ]
    },
    {
     "name": "stderr",
     "output_type": "stream",
     "text": [
      "782it [00:26, 25.84it/s]                         \n"
     ]
    },
    {
     "name": "stdout",
     "output_type": "stream",
     "text": [
      "(0.8908408950468537, 0.751)\n"
     ]
    },
    {
     "name": "stderr",
     "output_type": "stream",
     "text": [
      "782it [00:26, 29.76it/s]                         \n"
     ]
    },
    {
     "name": "stdout",
     "output_type": "stream",
     "text": [
      "(0.9724811845144649, 0.7432)\n"
     ]
    },
    {
     "name": "stderr",
     "output_type": "stream",
     "text": [
      "782it [00:25, 31.22it/s]                         \n"
     ]
    },
    {
     "name": "stdout",
     "output_type": "stream",
     "text": [
      "(0.9642699296307412, 0.7526)\n"
     ]
    },
    {
     "name": "stderr",
     "output_type": "stream",
     "text": [
      "782it [00:24, 31.53it/s]                         \n"
     ]
    },
    {
     "name": "stdout",
     "output_type": "stream",
     "text": [
      "(0.9426583099137446, 0.7573)\n"
     ]
    },
    {
     "name": "stderr",
     "output_type": "stream",
     "text": [
      "782it [00:24, 32.07it/s]                         \n"
     ]
    },
    {
     "name": "stdout",
     "output_type": "stream",
     "text": [
      "(0.9314216014685904, 0.7494)\n"
     ]
    },
    {
     "name": "stderr",
     "output_type": "stream",
     "text": [
      "782it [00:24, 32.50it/s]                         \n"
     ]
    },
    {
     "name": "stdout",
     "output_type": "stream",
     "text": [
      "(0.8936986051926947, 0.7502)\n"
     ]
    },
    {
     "name": "stderr",
     "output_type": "stream",
     "text": [
      "782it [00:23, 33.26it/s]                         \n"
     ]
    },
    {
     "name": "stdout",
     "output_type": "stream",
     "text": [
      "(0.8492751153791027, 0.7503)\n"
     ]
    },
    {
     "name": "stderr",
     "output_type": "stream",
     "text": [
      "782it [00:22, 34.46it/s]                         \n"
     ]
    },
    {
     "name": "stdout",
     "output_type": "stream",
     "text": [
      "(0.7932155722645438, 0.7581)\n"
     ]
    },
    {
     "name": "stderr",
     "output_type": "stream",
     "text": [
      "782it [00:22, 35.18it/s]                         \n"
     ]
    },
    {
     "name": "stdout",
     "output_type": "stream",
     "text": [
      "(0.8141366095299933, 0.752)\n"
     ]
    },
    {
     "name": "stderr",
     "output_type": "stream",
     "text": [
      "782it [00:21, 36.07it/s]                         \n"
     ]
    },
    {
     "name": "stdout",
     "output_type": "stream",
     "text": [
      "(0.8129005576394925, 0.7467)\n"
     ]
    },
    {
     "name": "stderr",
     "output_type": "stream",
     "text": [
      "782it [00:21, 36.76it/s]                         \n"
     ]
    },
    {
     "name": "stdout",
     "output_type": "stream",
     "text": [
      "(0.7694999588902589, 0.7538)\n"
     ]
    },
    {
     "name": "stderr",
     "output_type": "stream",
     "text": [
      "782it [00:20, 37.95it/s]                         \n"
     ]
    },
    {
     "name": "stdout",
     "output_type": "stream",
     "text": [
      "(0.7996066413867245, 0.7392)\n"
     ]
    },
    {
     "name": "stderr",
     "output_type": "stream",
     "text": [
      "782it [00:19, 39.24it/s]                         \n"
     ]
    },
    {
     "name": "stdout",
     "output_type": "stream",
     "text": [
      "(0.7565303416388809, 0.7499)\n"
     ]
    },
    {
     "name": "stderr",
     "output_type": "stream",
     "text": [
      "782it [00:19, 36.09it/s]                         \n"
     ]
    },
    {
     "name": "stdout",
     "output_type": "stream",
     "text": [
      "(0.7573758348537858, 0.7496)\n"
     ]
    },
    {
     "name": "stderr",
     "output_type": "stream",
     "text": [
      "782it [00:19, 41.14it/s]                         \n"
     ]
    },
    {
     "name": "stdout",
     "output_type": "stream",
     "text": [
      "(0.8227326215072802, 0.7247)\n"
     ]
    },
    {
     "name": "stderr",
     "output_type": "stream",
     "text": [
      "782it [00:18, 42.05it/s]                         \n"
     ]
    },
    {
     "name": "stdout",
     "output_type": "stream",
     "text": [
      "(0.8016463351097836, 0.7272)\n"
     ]
    },
    {
     "name": "stderr",
     "output_type": "stream",
     "text": [
      "782it [00:18, 42.65it/s]                         \n"
     ]
    },
    {
     "name": "stdout",
     "output_type": "stream",
     "text": [
      "(0.8007880415126776, 0.7333)\n"
     ]
    },
    {
     "name": "stderr",
     "output_type": "stream",
     "text": [
      "782it [00:18, 42.43it/s]                         \n"
     ]
    },
    {
     "name": "stdout",
     "output_type": "stream",
     "text": [
      "(0.8253344411303283, 0.721)\n"
     ]
    },
    {
     "name": "stderr",
     "output_type": "stream",
     "text": [
      "782it [00:17, 43.69it/s]                         \n"
     ]
    },
    {
     "name": "stdout",
     "output_type": "stream",
     "text": [
      "(0.8255365149230715, 0.7226)\n"
     ]
    },
    {
     "name": "stderr",
     "output_type": "stream",
     "text": [
      "782it [00:18, 44.94it/s]                         \n"
     ]
    },
    {
     "name": "stdout",
     "output_type": "stream",
     "text": [
      "(0.816090854679703, 0.7247)\n"
     ]
    },
    {
     "name": "stderr",
     "output_type": "stream",
     "text": [
      "782it [00:17, 44.99it/s]                         \n"
     ]
    },
    {
     "name": "stdout",
     "output_type": "stream",
     "text": [
      "(0.8061904159321147, 0.7229)\n"
     ]
    },
    {
     "name": "stderr",
     "output_type": "stream",
     "text": [
      "782it [00:17, 45.53it/s]                         \n"
     ]
    },
    {
     "name": "stdout",
     "output_type": "stream",
     "text": [
      "(0.826677365667501, 0.7202)\n"
     ]
    }
   ],
   "source": [
    "model_pruned_ = unit_prune(model_orig, 3)\n",
    "model_ft_ = fine_tuning(model_pruned_, 1)\n",
    "print(test(model_ft_, dataset_test))\n",
    "\n",
    "for i in range(29):\n",
    "    model_pruned_ = unit_prune(model_ft_, 3//np.power(0.97, i+1))\n",
    "    model_ft_ = fine_tuning(model_pruned_, 1)\n",
    "    print(test(model_ft_, dataset_test))\n",
    "\n"
   ]
  },
  {
   "cell_type": "code",
   "execution_count": 29,
   "metadata": {},
   "outputs": [
    {
     "name": "stdout",
     "output_type": "stream",
     "text": [
      "(3, 3, 3, 19)\n",
      "(19,)\n",
      "(3, 3, 19, 19)\n",
      "(19,)\n",
      "(3, 3, 19, 41)\n",
      "(41,)\n",
      "(3, 3, 41, 41)\n",
      "(41,)\n",
      "(3, 3, 41, 84)\n",
      "(84,)\n",
      "(3, 3, 84, 84)\n",
      "(84,)\n",
      "(1344, 4096)\n",
      "(4096,)\n",
      "(4096, 4096)\n",
      "(4096,)\n",
      "(4096, 10)\n"
     ]
    },
    {
     "ename": "IndexError",
     "evalue": "list index out of range",
     "output_type": "error",
     "traceback": [
      "\u001b[0;31m---------------------------------------------------------------------------\u001b[0m",
      "\u001b[0;31mIndexError\u001b[0m                                Traceback (most recent call last)",
      "\u001b[0;32m<ipython-input-29-d62d4cb36ce5>\u001b[0m in \u001b[0;36m<module>\u001b[0;34m\u001b[0m\n\u001b[1;32m      1\u001b[0m \u001b[0;32mfor\u001b[0m \u001b[0mi\u001b[0m \u001b[0;32min\u001b[0m \u001b[0mrange\u001b[0m\u001b[0;34m(\u001b[0m\u001b[0;36m20\u001b[0m\u001b[0;34m)\u001b[0m\u001b[0;34m:\u001b[0m\u001b[0;34m\u001b[0m\u001b[0m\n\u001b[0;32m----> 2\u001b[0;31m     \u001b[0mprint\u001b[0m\u001b[0;34m(\u001b[0m\u001b[0mmodel_ft_5\u001b[0m\u001b[0;34m.\u001b[0m\u001b[0mtrainable_weights\u001b[0m\u001b[0;34m[\u001b[0m\u001b[0mi\u001b[0m\u001b[0;34m]\u001b[0m\u001b[0;34m.\u001b[0m\u001b[0mshape\u001b[0m\u001b[0;34m)\u001b[0m\u001b[0;34m\u001b[0m\u001b[0m\n\u001b[0m",
      "\u001b[0;31mIndexError\u001b[0m: list index out of range"
     ]
    }
   ],
   "source": [
    "for i in range(20):\n",
    "    print(model_ft_5.trainable_weights[i].shape)"
   ]
  },
  {
   "cell_type": "code",
   "execution_count": 9,
   "metadata": {},
   "outputs": [
    {
     "name": "stdout",
     "output_type": "stream",
     "text": [
      "(1.6923481115869656, 0.735)\n"
     ]
    }
   ],
   "source": [
    "print(test(model_orig, dataset_test))"
   ]
  },
  {
   "cell_type": "code",
   "execution_count": null,
   "metadata": {},
   "outputs": [],
   "source": []
  }
 ],
 "metadata": {
  "kernelspec": {
   "display_name": "Python 3",
   "language": "python",
   "name": "python3"
  },
  "language_info": {
   "codemirror_mode": {
    "name": "ipython",
    "version": 3
   },
   "file_extension": ".py",
   "mimetype": "text/x-python",
   "name": "python",
   "nbconvert_exporter": "python",
   "pygments_lexer": "ipython3",
   "version": "3.5.2"
  }
 },
 "nbformat": 4,
 "nbformat_minor": 2
}
